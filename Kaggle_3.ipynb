{
  "nbformat": 4,
  "nbformat_minor": 0,
  "metadata": {
    "colab": {
      "name": "Kaggle_3.ipynb",
      "provenance": []
    },
    "kernelspec": {
      "name": "python3",
      "display_name": "Python 3"
    },
    "language_info": {
      "name": "python"
    }
  },
  "cells": [
    {
      "cell_type": "code",
      "metadata": {
        "id": "dPXsxI6PeroW"
      },
      "source": [
        "import numpy as np \n",
        "import pandas as pd \n",
        "import matplotlib.pyplot as plt\n",
        "from tensorflow import keras\n",
        "from keras.layers import Dense,Dropout\n",
        "from keras.models import Sequential"
      ],
      "execution_count": 1,
      "outputs": []
    },
    {
      "cell_type": "code",
      "metadata": {
        "id": "yHxymzF7fOY1"
      },
      "source": [
        "train_data=pd.read_csv('/content/drive/MyDrive/碩一下/Machine Learning/Homework_3/sf-crime/train.csv.zip')\n",
        "test_data=pd.read_csv('/content/drive/MyDrive/碩一下/Machine Learning/Homework_3/sf-crime/test.csv.zip')"
      ],
      "execution_count": 18,
      "outputs": []
    },
    {
      "cell_type": "code",
      "metadata": {
        "colab": {
          "base_uri": "https://localhost:8080/",
          "height": 111
        },
        "id": "_QPRVsu9fRWJ",
        "outputId": "d21556b7-220a-4c67-8b55-4dc5edbcd69a"
      },
      "source": [
        "train_data.head(2)\n",
        "# y = Category"
      ],
      "execution_count": 19,
      "outputs": [
        {
          "output_type": "execute_result",
          "data": {
            "text/html": [
              "<div>\n",
              "<style scoped>\n",
              "    .dataframe tbody tr th:only-of-type {\n",
              "        vertical-align: middle;\n",
              "    }\n",
              "\n",
              "    .dataframe tbody tr th {\n",
              "        vertical-align: top;\n",
              "    }\n",
              "\n",
              "    .dataframe thead th {\n",
              "        text-align: right;\n",
              "    }\n",
              "</style>\n",
              "<table border=\"1\" class=\"dataframe\">\n",
              "  <thead>\n",
              "    <tr style=\"text-align: right;\">\n",
              "      <th></th>\n",
              "      <th>Dates</th>\n",
              "      <th>Category</th>\n",
              "      <th>Descript</th>\n",
              "      <th>DayOfWeek</th>\n",
              "      <th>PdDistrict</th>\n",
              "      <th>Resolution</th>\n",
              "      <th>Address</th>\n",
              "      <th>X</th>\n",
              "      <th>Y</th>\n",
              "    </tr>\n",
              "  </thead>\n",
              "  <tbody>\n",
              "    <tr>\n",
              "      <th>0</th>\n",
              "      <td>2015-05-13 23:53:00</td>\n",
              "      <td>WARRANTS</td>\n",
              "      <td>WARRANT ARREST</td>\n",
              "      <td>Wednesday</td>\n",
              "      <td>NORTHERN</td>\n",
              "      <td>ARREST, BOOKED</td>\n",
              "      <td>OAK ST / LAGUNA ST</td>\n",
              "      <td>-122.425892</td>\n",
              "      <td>37.774599</td>\n",
              "    </tr>\n",
              "    <tr>\n",
              "      <th>1</th>\n",
              "      <td>2015-05-13 23:53:00</td>\n",
              "      <td>OTHER OFFENSES</td>\n",
              "      <td>TRAFFIC VIOLATION ARREST</td>\n",
              "      <td>Wednesday</td>\n",
              "      <td>NORTHERN</td>\n",
              "      <td>ARREST, BOOKED</td>\n",
              "      <td>OAK ST / LAGUNA ST</td>\n",
              "      <td>-122.425892</td>\n",
              "      <td>37.774599</td>\n",
              "    </tr>\n",
              "  </tbody>\n",
              "</table>\n",
              "</div>"
            ],
            "text/plain": [
              "                 Dates        Category  ...           X          Y\n",
              "0  2015-05-13 23:53:00        WARRANTS  ... -122.425892  37.774599\n",
              "1  2015-05-13 23:53:00  OTHER OFFENSES  ... -122.425892  37.774599\n",
              "\n",
              "[2 rows x 9 columns]"
            ]
          },
          "metadata": {
            "tags": []
          },
          "execution_count": 19
        }
      ]
    },
    {
      "cell_type": "code",
      "metadata": {
        "colab": {
          "base_uri": "https://localhost:8080/",
          "height": 111
        },
        "id": "hS6H1PFRl7j2",
        "outputId": "1ef67633-73ae-4c77-bf7b-8f63bcb4fa8a"
      },
      "source": [
        "test_data.head(2)"
      ],
      "execution_count": 20,
      "outputs": [
        {
          "output_type": "execute_result",
          "data": {
            "text/html": [
              "<div>\n",
              "<style scoped>\n",
              "    .dataframe tbody tr th:only-of-type {\n",
              "        vertical-align: middle;\n",
              "    }\n",
              "\n",
              "    .dataframe tbody tr th {\n",
              "        vertical-align: top;\n",
              "    }\n",
              "\n",
              "    .dataframe thead th {\n",
              "        text-align: right;\n",
              "    }\n",
              "</style>\n",
              "<table border=\"1\" class=\"dataframe\">\n",
              "  <thead>\n",
              "    <tr style=\"text-align: right;\">\n",
              "      <th></th>\n",
              "      <th>Id</th>\n",
              "      <th>Dates</th>\n",
              "      <th>DayOfWeek</th>\n",
              "      <th>PdDistrict</th>\n",
              "      <th>Address</th>\n",
              "      <th>X</th>\n",
              "      <th>Y</th>\n",
              "    </tr>\n",
              "  </thead>\n",
              "  <tbody>\n",
              "    <tr>\n",
              "      <th>0</th>\n",
              "      <td>0</td>\n",
              "      <td>2015-05-10 23:59:00</td>\n",
              "      <td>Sunday</td>\n",
              "      <td>BAYVIEW</td>\n",
              "      <td>2000 Block of THOMAS AV</td>\n",
              "      <td>-122.399588</td>\n",
              "      <td>37.735051</td>\n",
              "    </tr>\n",
              "    <tr>\n",
              "      <th>1</th>\n",
              "      <td>1</td>\n",
              "      <td>2015-05-10 23:51:00</td>\n",
              "      <td>Sunday</td>\n",
              "      <td>BAYVIEW</td>\n",
              "      <td>3RD ST / REVERE AV</td>\n",
              "      <td>-122.391523</td>\n",
              "      <td>37.732432</td>\n",
              "    </tr>\n",
              "  </tbody>\n",
              "</table>\n",
              "</div>"
            ],
            "text/plain": [
              "   Id                Dates  ...           X          Y\n",
              "0   0  2015-05-10 23:59:00  ... -122.399588  37.735051\n",
              "1   1  2015-05-10 23:51:00  ... -122.391523  37.732432\n",
              "\n",
              "[2 rows x 7 columns]"
            ]
          },
          "metadata": {
            "tags": []
          },
          "execution_count": 20
        }
      ]
    },
    {
      "cell_type": "code",
      "metadata": {
        "id": "PzM_9Sx-fXab"
      },
      "source": [
        "train_data.drop(['Descript','Resolution','Address'],inplace=True,axis=1)\n",
        "test_data.drop('Address',axis=1,inplace=True)"
      ],
      "execution_count": 21,
      "outputs": []
    },
    {
      "cell_type": "code",
      "metadata": {
        "colab": {
          "base_uri": "https://localhost:8080/"
        },
        "id": "_eiso8JNfaGv",
        "outputId": "0a82f5e5-6f90-4bb7-dbd8-0394a28734e0"
      },
      "source": [
        "train_data.columns"
      ],
      "execution_count": 22,
      "outputs": [
        {
          "output_type": "execute_result",
          "data": {
            "text/plain": [
              "Index(['Dates', 'Category', 'DayOfWeek', 'PdDistrict', 'X', 'Y'], dtype='object')"
            ]
          },
          "metadata": {
            "tags": []
          },
          "execution_count": 22
        }
      ]
    },
    {
      "cell_type": "code",
      "metadata": {
        "colab": {
          "base_uri": "https://localhost:8080/"
        },
        "id": "EX0wjeJIfcvH",
        "outputId": "2169afc1-5dea-4fc8-ac98-ff6c70dfda8c"
      },
      "source": [
        "test_data.columns"
      ],
      "execution_count": 23,
      "outputs": [
        {
          "output_type": "execute_result",
          "data": {
            "text/plain": [
              "Index(['Id', 'Dates', 'DayOfWeek', 'PdDistrict', 'X', 'Y'], dtype='object')"
            ]
          },
          "metadata": {
            "tags": []
          },
          "execution_count": 23
        }
      ]
    },
    {
      "cell_type": "code",
      "metadata": {
        "colab": {
          "base_uri": "https://localhost:8080/"
        },
        "id": "nSvaBtM-ffs_",
        "outputId": "3bbb3ed7-2bc8-47d6-a9bf-066e20ab6698"
      },
      "source": [
        "train_data['DayOfWeek'].unique()"
      ],
      "execution_count": 24,
      "outputs": [
        {
          "output_type": "execute_result",
          "data": {
            "text/plain": [
              "array(['Wednesday', 'Tuesday', 'Monday', 'Sunday', 'Saturday', 'Friday',\n",
              "       'Thursday'], dtype=object)"
            ]
          },
          "metadata": {
            "tags": []
          },
          "execution_count": 24
        }
      ]
    },
    {
      "cell_type": "code",
      "metadata": {
        "colab": {
          "base_uri": "https://localhost:8080/"
        },
        "id": "Ep16w8-znBrx",
        "outputId": "173f2aed-1ec6-4675-9f12-0b78ed93fa29"
      },
      "source": [
        "test_data['DayOfWeek'].unique()"
      ],
      "execution_count": 25,
      "outputs": [
        {
          "output_type": "execute_result",
          "data": {
            "text/plain": [
              "array(['Sunday', 'Saturday', 'Friday', 'Thursday', 'Wednesday', 'Tuesday',\n",
              "       'Monday'], dtype=object)"
            ]
          },
          "metadata": {
            "tags": []
          },
          "execution_count": 25
        }
      ]
    },
    {
      "cell_type": "code",
      "metadata": {
        "id": "-1Hfq-xkfjG9"
      },
      "source": [
        "# one-hot encoding\n",
        "dummies_train=pd.get_dummies(train_data['PdDistrict'])\n",
        "dummies_test=pd.get_dummies(test_data['PdDistrict'])\n",
        "\n",
        "train_data=pd.concat([train_data,dummies_train],axis=1)\n",
        "train_data.drop('PdDistrict',inplace=True,axis=1)\n",
        "\n",
        "test_data=pd.concat([test_data,dummies_test],axis=1)\n",
        "test_data.drop('PdDistrict',inplace=True,axis=1)"
      ],
      "execution_count": 26,
      "outputs": []
    },
    {
      "cell_type": "code",
      "metadata": {
        "colab": {
          "base_uri": "https://localhost:8080/",
          "height": 148
        },
        "id": "tp0TlzC_gjhW",
        "outputId": "3c3ea5bf-e19d-4f87-e0ed-03740cef803e"
      },
      "source": [
        "# 把日期各項獨立出來\n",
        "train_data['Dates'] = pd.to_datetime(train_data['Dates'])\n",
        "\n",
        "train_data['year'] = train_data['Dates'].dt.year \n",
        "train_data['month'] = train_data['Dates'].dt.month \n",
        "train_data['day'] = train_data['Dates'].dt.day\n",
        "train_data['hour'] = train_data['Dates'].dt.hour\n",
        "train_data['minute'] = train_data['Dates'].dt.minute\n",
        "train_data['DayOfWeek'] = train_data['Dates'].dt.weekday\n",
        "\n",
        "train_data.drop('Dates',axis=1,inplace=True)\n",
        "train_data.head(2)"
      ],
      "execution_count": 28,
      "outputs": [
        {
          "output_type": "execute_result",
          "data": {
            "text/html": [
              "<div>\n",
              "<style scoped>\n",
              "    .dataframe tbody tr th:only-of-type {\n",
              "        vertical-align: middle;\n",
              "    }\n",
              "\n",
              "    .dataframe tbody tr th {\n",
              "        vertical-align: top;\n",
              "    }\n",
              "\n",
              "    .dataframe thead th {\n",
              "        text-align: right;\n",
              "    }\n",
              "</style>\n",
              "<table border=\"1\" class=\"dataframe\">\n",
              "  <thead>\n",
              "    <tr style=\"text-align: right;\">\n",
              "      <th></th>\n",
              "      <th>Category</th>\n",
              "      <th>DayOfWeek</th>\n",
              "      <th>X</th>\n",
              "      <th>Y</th>\n",
              "      <th>BAYVIEW</th>\n",
              "      <th>CENTRAL</th>\n",
              "      <th>INGLESIDE</th>\n",
              "      <th>MISSION</th>\n",
              "      <th>NORTHERN</th>\n",
              "      <th>PARK</th>\n",
              "      <th>RICHMOND</th>\n",
              "      <th>SOUTHERN</th>\n",
              "      <th>TARAVAL</th>\n",
              "      <th>TENDERLOIN</th>\n",
              "      <th>year</th>\n",
              "      <th>month</th>\n",
              "      <th>day</th>\n",
              "      <th>hour</th>\n",
              "      <th>minute</th>\n",
              "    </tr>\n",
              "  </thead>\n",
              "  <tbody>\n",
              "    <tr>\n",
              "      <th>0</th>\n",
              "      <td>WARRANTS</td>\n",
              "      <td>2</td>\n",
              "      <td>-122.425892</td>\n",
              "      <td>37.774599</td>\n",
              "      <td>0</td>\n",
              "      <td>0</td>\n",
              "      <td>0</td>\n",
              "      <td>0</td>\n",
              "      <td>1</td>\n",
              "      <td>0</td>\n",
              "      <td>0</td>\n",
              "      <td>0</td>\n",
              "      <td>0</td>\n",
              "      <td>0</td>\n",
              "      <td>2015</td>\n",
              "      <td>5</td>\n",
              "      <td>13</td>\n",
              "      <td>23</td>\n",
              "      <td>53</td>\n",
              "    </tr>\n",
              "    <tr>\n",
              "      <th>1</th>\n",
              "      <td>OTHER OFFENSES</td>\n",
              "      <td>2</td>\n",
              "      <td>-122.425892</td>\n",
              "      <td>37.774599</td>\n",
              "      <td>0</td>\n",
              "      <td>0</td>\n",
              "      <td>0</td>\n",
              "      <td>0</td>\n",
              "      <td>1</td>\n",
              "      <td>0</td>\n",
              "      <td>0</td>\n",
              "      <td>0</td>\n",
              "      <td>0</td>\n",
              "      <td>0</td>\n",
              "      <td>2015</td>\n",
              "      <td>5</td>\n",
              "      <td>13</td>\n",
              "      <td>23</td>\n",
              "      <td>53</td>\n",
              "    </tr>\n",
              "  </tbody>\n",
              "</table>\n",
              "</div>"
            ],
            "text/plain": [
              "         Category  DayOfWeek           X          Y  ...  month  day  hour  minute\n",
              "0        WARRANTS          2 -122.425892  37.774599  ...      5   13    23      53\n",
              "1  OTHER OFFENSES          2 -122.425892  37.774599  ...      5   13    23      53\n",
              "\n",
              "[2 rows x 19 columns]"
            ]
          },
          "metadata": {
            "tags": []
          },
          "execution_count": 28
        }
      ]
    },
    {
      "cell_type": "code",
      "metadata": {
        "colab": {
          "base_uri": "https://localhost:8080/",
          "height": 131
        },
        "id": "PfvhiLWch5Ey",
        "outputId": "421eeafc-8579-4779-8e80-af3d2bba9725"
      },
      "source": [
        "test_data['Dates'] = pd.to_datetime(test_data['Dates'])\n",
        "\n",
        "test_data['year'] = test_data['Dates'].dt.year \n",
        "test_data['month'] = test_data['Dates'].dt.month \n",
        "test_data['day'] = test_data['Dates'].dt.day\n",
        "test_data['hour'] = test_data['Dates'].dt.hour\n",
        "test_data['minute'] = test_data['Dates'].dt.minute\n",
        "test_data['DayOfWeek'] = test_data['Dates'].dt.weekday\n",
        "\n",
        "test_data.drop('Dates',axis=1,inplace=True)\n",
        "test_data.head(2)"
      ],
      "execution_count": 29,
      "outputs": [
        {
          "output_type": "execute_result",
          "data": {
            "text/html": [
              "<div>\n",
              "<style scoped>\n",
              "    .dataframe tbody tr th:only-of-type {\n",
              "        vertical-align: middle;\n",
              "    }\n",
              "\n",
              "    .dataframe tbody tr th {\n",
              "        vertical-align: top;\n",
              "    }\n",
              "\n",
              "    .dataframe thead th {\n",
              "        text-align: right;\n",
              "    }\n",
              "</style>\n",
              "<table border=\"1\" class=\"dataframe\">\n",
              "  <thead>\n",
              "    <tr style=\"text-align: right;\">\n",
              "      <th></th>\n",
              "      <th>Id</th>\n",
              "      <th>DayOfWeek</th>\n",
              "      <th>X</th>\n",
              "      <th>Y</th>\n",
              "      <th>BAYVIEW</th>\n",
              "      <th>CENTRAL</th>\n",
              "      <th>INGLESIDE</th>\n",
              "      <th>MISSION</th>\n",
              "      <th>NORTHERN</th>\n",
              "      <th>PARK</th>\n",
              "      <th>RICHMOND</th>\n",
              "      <th>SOUTHERN</th>\n",
              "      <th>TARAVAL</th>\n",
              "      <th>TENDERLOIN</th>\n",
              "      <th>year</th>\n",
              "      <th>month</th>\n",
              "      <th>day</th>\n",
              "      <th>hour</th>\n",
              "      <th>minute</th>\n",
              "    </tr>\n",
              "  </thead>\n",
              "  <tbody>\n",
              "    <tr>\n",
              "      <th>0</th>\n",
              "      <td>0</td>\n",
              "      <td>6</td>\n",
              "      <td>-122.399588</td>\n",
              "      <td>37.735051</td>\n",
              "      <td>1</td>\n",
              "      <td>0</td>\n",
              "      <td>0</td>\n",
              "      <td>0</td>\n",
              "      <td>0</td>\n",
              "      <td>0</td>\n",
              "      <td>0</td>\n",
              "      <td>0</td>\n",
              "      <td>0</td>\n",
              "      <td>0</td>\n",
              "      <td>2015</td>\n",
              "      <td>5</td>\n",
              "      <td>10</td>\n",
              "      <td>23</td>\n",
              "      <td>59</td>\n",
              "    </tr>\n",
              "    <tr>\n",
              "      <th>1</th>\n",
              "      <td>1</td>\n",
              "      <td>6</td>\n",
              "      <td>-122.391523</td>\n",
              "      <td>37.732432</td>\n",
              "      <td>1</td>\n",
              "      <td>0</td>\n",
              "      <td>0</td>\n",
              "      <td>0</td>\n",
              "      <td>0</td>\n",
              "      <td>0</td>\n",
              "      <td>0</td>\n",
              "      <td>0</td>\n",
              "      <td>0</td>\n",
              "      <td>0</td>\n",
              "      <td>2015</td>\n",
              "      <td>5</td>\n",
              "      <td>10</td>\n",
              "      <td>23</td>\n",
              "      <td>51</td>\n",
              "    </tr>\n",
              "  </tbody>\n",
              "</table>\n",
              "</div>"
            ],
            "text/plain": [
              "   Id  DayOfWeek           X          Y  ...  month  day  hour  minute\n",
              "0   0          6 -122.399588  37.735051  ...      5   10    23      59\n",
              "1   1          6 -122.391523  37.732432  ...      5   10    23      51\n",
              "\n",
              "[2 rows x 19 columns]"
            ]
          },
          "metadata": {
            "tags": []
          },
          "execution_count": 29
        }
      ]
    },
    {
      "cell_type": "code",
      "metadata": {
        "colab": {
          "base_uri": "https://localhost:8080/",
          "height": 182
        },
        "id": "S89Wmvl2h9QG",
        "outputId": "a35f8829-5927-4940-86a8-f82263056e31"
      },
      "source": [
        "y=pd.get_dummies(train_data['Category'])\n",
        "y.head(2)"
      ],
      "execution_count": 30,
      "outputs": [
        {
          "output_type": "execute_result",
          "data": {
            "text/html": [
              "<div>\n",
              "<style scoped>\n",
              "    .dataframe tbody tr th:only-of-type {\n",
              "        vertical-align: middle;\n",
              "    }\n",
              "\n",
              "    .dataframe tbody tr th {\n",
              "        vertical-align: top;\n",
              "    }\n",
              "\n",
              "    .dataframe thead th {\n",
              "        text-align: right;\n",
              "    }\n",
              "</style>\n",
              "<table border=\"1\" class=\"dataframe\">\n",
              "  <thead>\n",
              "    <tr style=\"text-align: right;\">\n",
              "      <th></th>\n",
              "      <th>ARSON</th>\n",
              "      <th>ASSAULT</th>\n",
              "      <th>BAD CHECKS</th>\n",
              "      <th>BRIBERY</th>\n",
              "      <th>BURGLARY</th>\n",
              "      <th>DISORDERLY CONDUCT</th>\n",
              "      <th>DRIVING UNDER THE INFLUENCE</th>\n",
              "      <th>DRUG/NARCOTIC</th>\n",
              "      <th>DRUNKENNESS</th>\n",
              "      <th>EMBEZZLEMENT</th>\n",
              "      <th>EXTORTION</th>\n",
              "      <th>FAMILY OFFENSES</th>\n",
              "      <th>FORGERY/COUNTERFEITING</th>\n",
              "      <th>FRAUD</th>\n",
              "      <th>GAMBLING</th>\n",
              "      <th>KIDNAPPING</th>\n",
              "      <th>LARCENY/THEFT</th>\n",
              "      <th>LIQUOR LAWS</th>\n",
              "      <th>LOITERING</th>\n",
              "      <th>MISSING PERSON</th>\n",
              "      <th>NON-CRIMINAL</th>\n",
              "      <th>OTHER OFFENSES</th>\n",
              "      <th>PORNOGRAPHY/OBSCENE MAT</th>\n",
              "      <th>PROSTITUTION</th>\n",
              "      <th>RECOVERED VEHICLE</th>\n",
              "      <th>ROBBERY</th>\n",
              "      <th>RUNAWAY</th>\n",
              "      <th>SECONDARY CODES</th>\n",
              "      <th>SEX OFFENSES FORCIBLE</th>\n",
              "      <th>SEX OFFENSES NON FORCIBLE</th>\n",
              "      <th>STOLEN PROPERTY</th>\n",
              "      <th>SUICIDE</th>\n",
              "      <th>SUSPICIOUS OCC</th>\n",
              "      <th>TREA</th>\n",
              "      <th>TRESPASS</th>\n",
              "      <th>VANDALISM</th>\n",
              "      <th>VEHICLE THEFT</th>\n",
              "      <th>WARRANTS</th>\n",
              "      <th>WEAPON LAWS</th>\n",
              "    </tr>\n",
              "  </thead>\n",
              "  <tbody>\n",
              "    <tr>\n",
              "      <th>0</th>\n",
              "      <td>0</td>\n",
              "      <td>0</td>\n",
              "      <td>0</td>\n",
              "      <td>0</td>\n",
              "      <td>0</td>\n",
              "      <td>0</td>\n",
              "      <td>0</td>\n",
              "      <td>0</td>\n",
              "      <td>0</td>\n",
              "      <td>0</td>\n",
              "      <td>0</td>\n",
              "      <td>0</td>\n",
              "      <td>0</td>\n",
              "      <td>0</td>\n",
              "      <td>0</td>\n",
              "      <td>0</td>\n",
              "      <td>0</td>\n",
              "      <td>0</td>\n",
              "      <td>0</td>\n",
              "      <td>0</td>\n",
              "      <td>0</td>\n",
              "      <td>0</td>\n",
              "      <td>0</td>\n",
              "      <td>0</td>\n",
              "      <td>0</td>\n",
              "      <td>0</td>\n",
              "      <td>0</td>\n",
              "      <td>0</td>\n",
              "      <td>0</td>\n",
              "      <td>0</td>\n",
              "      <td>0</td>\n",
              "      <td>0</td>\n",
              "      <td>0</td>\n",
              "      <td>0</td>\n",
              "      <td>0</td>\n",
              "      <td>0</td>\n",
              "      <td>0</td>\n",
              "      <td>1</td>\n",
              "      <td>0</td>\n",
              "    </tr>\n",
              "    <tr>\n",
              "      <th>1</th>\n",
              "      <td>0</td>\n",
              "      <td>0</td>\n",
              "      <td>0</td>\n",
              "      <td>0</td>\n",
              "      <td>0</td>\n",
              "      <td>0</td>\n",
              "      <td>0</td>\n",
              "      <td>0</td>\n",
              "      <td>0</td>\n",
              "      <td>0</td>\n",
              "      <td>0</td>\n",
              "      <td>0</td>\n",
              "      <td>0</td>\n",
              "      <td>0</td>\n",
              "      <td>0</td>\n",
              "      <td>0</td>\n",
              "      <td>0</td>\n",
              "      <td>0</td>\n",
              "      <td>0</td>\n",
              "      <td>0</td>\n",
              "      <td>0</td>\n",
              "      <td>1</td>\n",
              "      <td>0</td>\n",
              "      <td>0</td>\n",
              "      <td>0</td>\n",
              "      <td>0</td>\n",
              "      <td>0</td>\n",
              "      <td>0</td>\n",
              "      <td>0</td>\n",
              "      <td>0</td>\n",
              "      <td>0</td>\n",
              "      <td>0</td>\n",
              "      <td>0</td>\n",
              "      <td>0</td>\n",
              "      <td>0</td>\n",
              "      <td>0</td>\n",
              "      <td>0</td>\n",
              "      <td>0</td>\n",
              "      <td>0</td>\n",
              "    </tr>\n",
              "  </tbody>\n",
              "</table>\n",
              "</div>"
            ],
            "text/plain": [
              "   ARSON  ASSAULT  BAD CHECKS  ...  VEHICLE THEFT  WARRANTS  WEAPON LAWS\n",
              "0      0        0           0  ...              0         1            0\n",
              "1      0        0           0  ...              0         0            0\n",
              "\n",
              "[2 rows x 39 columns]"
            ]
          },
          "metadata": {
            "tags": []
          },
          "execution_count": 30
        }
      ]
    },
    {
      "cell_type": "code",
      "metadata": {
        "id": "e1lbvYR9iDqD"
      },
      "source": [
        "X=train_data.drop(['Category'],axis=1)"
      ],
      "execution_count": 32,
      "outputs": []
    },
    {
      "cell_type": "code",
      "metadata": {
        "id": "ohzZORnWiJJd"
      },
      "source": [
        "from sklearn.model_selection import train_test_split\n",
        "X_train,X_test,y_train,y_test=train_test_split(X,y,test_size=0.3,random_state=13)"
      ],
      "execution_count": 33,
      "outputs": []
    },
    {
      "cell_type": "code",
      "metadata": {
        "colab": {
          "base_uri": "https://localhost:8080/"
        },
        "id": "nPIyDM1wgXR_",
        "outputId": "84cc3662-adf7-4a40-e5c9-c6f18c0793aa"
      },
      "source": [
        "# NN model\n",
        "model=Sequential()\n",
        "\n",
        "model.add(Dense(128,input_shape=(X.shape[1],)))\n",
        "model.add(Dense(128,activation='relu'))\n",
        "model.add(Dense(64,activation='relu'))\n",
        "model.add(Dense(64,activation='relu'))\n",
        "\n",
        "#輸出層\n",
        "model.add(Dense(39,activation='softmax'))\n",
        "\n",
        "#看一下model的長相\n",
        "model.summary()\n"
      ],
      "execution_count": 34,
      "outputs": [
        {
          "output_type": "stream",
          "text": [
            "Model: \"sequential\"\n",
            "_________________________________________________________________\n",
            "Layer (type)                 Output Shape              Param #   \n",
            "=================================================================\n",
            "dense (Dense)                (None, 128)               2432      \n",
            "_________________________________________________________________\n",
            "dense_1 (Dense)              (None, 128)               16512     \n",
            "_________________________________________________________________\n",
            "dense_2 (Dense)              (None, 64)                8256      \n",
            "_________________________________________________________________\n",
            "dense_3 (Dense)              (None, 64)                4160      \n",
            "_________________________________________________________________\n",
            "dense_4 (Dense)              (None, 39)                2535      \n",
            "=================================================================\n",
            "Total params: 33,895\n",
            "Trainable params: 33,895\n",
            "Non-trainable params: 0\n",
            "_________________________________________________________________\n"
          ],
          "name": "stdout"
        }
      ]
    },
    {
      "cell_type": "code",
      "metadata": {
        "id": "W2uAKQIOiSOP"
      },
      "source": [
        "# 選擇損失函數、最佳化方法及成效衡量方式\n",
        "model.compile(loss='categorical_crossentropy',optimizer='Adam', metrics=['accuracy'])"
      ],
      "execution_count": 35,
      "outputs": []
    },
    {
      "cell_type": "code",
      "metadata": {
        "colab": {
          "base_uri": "https://localhost:8080/"
        },
        "id": "TZ4G0H5KibHs",
        "outputId": "85eb5f79-262e-4b7a-9494-1827724e7dd6"
      },
      "source": [
        "train=model.fit(X_train,y_train, batch_size=64,epochs=13,validation_data=(X_test,y_test))"
      ],
      "execution_count": 52,
      "outputs": [
        {
          "output_type": "stream",
          "text": [
            "Epoch 1/13\n",
            "9604/9604 [==============================] - 20s 2ms/step - loss: 2.5381 - accuracy: 0.2425 - val_loss: 2.5278 - val_accuracy: 0.2471\n",
            "Epoch 2/13\n",
            "9604/9604 [==============================] - 20s 2ms/step - loss: 2.5385 - accuracy: 0.2423 - val_loss: 2.5430 - val_accuracy: 0.2388\n",
            "Epoch 3/13\n",
            "9604/9604 [==============================] - 20s 2ms/step - loss: 2.5396 - accuracy: 0.2415 - val_loss: 2.5456 - val_accuracy: 0.2405\n",
            "Epoch 4/13\n",
            "9604/9604 [==============================] - 20s 2ms/step - loss: 2.5395 - accuracy: 0.2412 - val_loss: 2.5360 - val_accuracy: 0.2417\n",
            "Epoch 5/13\n",
            "9604/9604 [==============================] - 20s 2ms/step - loss: 2.5380 - accuracy: 0.2420 - val_loss: 2.5367 - val_accuracy: 0.2411\n",
            "Epoch 6/13\n",
            "9604/9604 [==============================] - 20s 2ms/step - loss: 2.5361 - accuracy: 0.2428 - val_loss: 2.5410 - val_accuracy: 0.2420\n",
            "Epoch 7/13\n",
            "9604/9604 [==============================] - 20s 2ms/step - loss: 2.5346 - accuracy: 0.2429 - val_loss: 2.5259 - val_accuracy: 0.2463\n",
            "Epoch 8/13\n",
            "9604/9604 [==============================] - 20s 2ms/step - loss: 2.5326 - accuracy: 0.2437 - val_loss: 2.5373 - val_accuracy: 0.2435\n",
            "Epoch 9/13\n",
            "9604/9604 [==============================] - 20s 2ms/step - loss: 2.5355 - accuracy: 0.2436 - val_loss: 2.5385 - val_accuracy: 0.2408\n",
            "Epoch 10/13\n",
            "9604/9604 [==============================] - 20s 2ms/step - loss: 2.5358 - accuracy: 0.2424 - val_loss: 2.5395 - val_accuracy: 0.2399\n",
            "Epoch 11/13\n",
            "9604/9604 [==============================] - 20s 2ms/step - loss: 2.5362 - accuracy: 0.2424 - val_loss: 2.5313 - val_accuracy: 0.2439\n",
            "Epoch 12/13\n",
            "9604/9604 [==============================] - 20s 2ms/step - loss: 2.5365 - accuracy: 0.2424 - val_loss: 2.5252 - val_accuracy: 0.2447\n",
            "Epoch 13/13\n",
            "9604/9604 [==============================] - 21s 2ms/step - loss: 2.5316 - accuracy: 0.2441 - val_loss: 2.5358 - val_accuracy: 0.2393\n"
          ],
          "name": "stdout"
        }
      ]
    },
    {
      "cell_type": "code",
      "metadata": {
        "id": "sqmHdCCHkDRm"
      },
      "source": [
        "test=test_data.drop(['Id'],axis=1)"
      ],
      "execution_count": 53,
      "outputs": []
    },
    {
      "cell_type": "code",
      "metadata": {
        "id": "Adrr9bdyiiVs"
      },
      "source": [
        "# 預測\n",
        "test_result=model.predict(test)"
      ],
      "execution_count": 54,
      "outputs": []
    },
    {
      "cell_type": "code",
      "metadata": {
        "colab": {
          "base_uri": "https://localhost:8080/"
        },
        "id": "PBgViQvxi4Gl",
        "outputId": "7c83f0de-1f71-45d9-cea1-74c7d9e27247"
      },
      "source": [
        "m = np.max(test_result, axis=1).reshape(-1, 1)\n",
        "predicted = np.array((test_result == m), dtype='int32')\n",
        "predicted"
      ],
      "execution_count": 55,
      "outputs": [
        {
          "output_type": "execute_result",
          "data": {
            "text/plain": [
              "array([[0, 0, 0, ..., 0, 0, 0],\n",
              "       [0, 0, 0, ..., 0, 0, 0],\n",
              "       [0, 0, 0, ..., 0, 0, 0],\n",
              "       ...,\n",
              "       [0, 0, 0, ..., 0, 0, 0],\n",
              "       [0, 0, 0, ..., 0, 0, 0],\n",
              "       [0, 0, 0, ..., 0, 0, 0]], dtype=int32)"
            ]
          },
          "metadata": {
            "tags": []
          },
          "execution_count": 55
        }
      ]
    },
    {
      "cell_type": "code",
      "metadata": {
        "colab": {
          "base_uri": "https://localhost:8080/",
          "height": 182
        },
        "id": "EsO0Q_luteK7",
        "outputId": "da7be8bf-f427-4327-f48e-df82ccbc07f6"
      },
      "source": [
        "sample = pd.read_csv(\"/content/drive/MyDrive/碩一下/Machine Learning/Homework_3/sf-crime/sampleSubmission.csv.zip\")\n",
        "sample.head(2)"
      ],
      "execution_count": 56,
      "outputs": [
        {
          "output_type": "execute_result",
          "data": {
            "text/html": [
              "<div>\n",
              "<style scoped>\n",
              "    .dataframe tbody tr th:only-of-type {\n",
              "        vertical-align: middle;\n",
              "    }\n",
              "\n",
              "    .dataframe tbody tr th {\n",
              "        vertical-align: top;\n",
              "    }\n",
              "\n",
              "    .dataframe thead th {\n",
              "        text-align: right;\n",
              "    }\n",
              "</style>\n",
              "<table border=\"1\" class=\"dataframe\">\n",
              "  <thead>\n",
              "    <tr style=\"text-align: right;\">\n",
              "      <th></th>\n",
              "      <th>Id</th>\n",
              "      <th>ARSON</th>\n",
              "      <th>ASSAULT</th>\n",
              "      <th>BAD CHECKS</th>\n",
              "      <th>BRIBERY</th>\n",
              "      <th>BURGLARY</th>\n",
              "      <th>DISORDERLY CONDUCT</th>\n",
              "      <th>DRIVING UNDER THE INFLUENCE</th>\n",
              "      <th>DRUG/NARCOTIC</th>\n",
              "      <th>DRUNKENNESS</th>\n",
              "      <th>EMBEZZLEMENT</th>\n",
              "      <th>EXTORTION</th>\n",
              "      <th>FAMILY OFFENSES</th>\n",
              "      <th>FORGERY/COUNTERFEITING</th>\n",
              "      <th>FRAUD</th>\n",
              "      <th>GAMBLING</th>\n",
              "      <th>KIDNAPPING</th>\n",
              "      <th>LARCENY/THEFT</th>\n",
              "      <th>LIQUOR LAWS</th>\n",
              "      <th>LOITERING</th>\n",
              "      <th>MISSING PERSON</th>\n",
              "      <th>NON-CRIMINAL</th>\n",
              "      <th>OTHER OFFENSES</th>\n",
              "      <th>PORNOGRAPHY/OBSCENE MAT</th>\n",
              "      <th>PROSTITUTION</th>\n",
              "      <th>RECOVERED VEHICLE</th>\n",
              "      <th>ROBBERY</th>\n",
              "      <th>RUNAWAY</th>\n",
              "      <th>SECONDARY CODES</th>\n",
              "      <th>SEX OFFENSES FORCIBLE</th>\n",
              "      <th>SEX OFFENSES NON FORCIBLE</th>\n",
              "      <th>STOLEN PROPERTY</th>\n",
              "      <th>SUICIDE</th>\n",
              "      <th>SUSPICIOUS OCC</th>\n",
              "      <th>TREA</th>\n",
              "      <th>TRESPASS</th>\n",
              "      <th>VANDALISM</th>\n",
              "      <th>VEHICLE THEFT</th>\n",
              "      <th>WARRANTS</th>\n",
              "      <th>WEAPON LAWS</th>\n",
              "    </tr>\n",
              "  </thead>\n",
              "  <tbody>\n",
              "    <tr>\n",
              "      <th>0</th>\n",
              "      <td>0</td>\n",
              "      <td>0</td>\n",
              "      <td>0</td>\n",
              "      <td>0</td>\n",
              "      <td>0</td>\n",
              "      <td>0</td>\n",
              "      <td>0</td>\n",
              "      <td>0</td>\n",
              "      <td>0</td>\n",
              "      <td>0</td>\n",
              "      <td>0</td>\n",
              "      <td>0</td>\n",
              "      <td>0</td>\n",
              "      <td>0</td>\n",
              "      <td>0</td>\n",
              "      <td>0</td>\n",
              "      <td>0</td>\n",
              "      <td>0</td>\n",
              "      <td>0</td>\n",
              "      <td>0</td>\n",
              "      <td>0</td>\n",
              "      <td>0</td>\n",
              "      <td>0</td>\n",
              "      <td>0</td>\n",
              "      <td>0</td>\n",
              "      <td>0</td>\n",
              "      <td>0</td>\n",
              "      <td>0</td>\n",
              "      <td>0</td>\n",
              "      <td>0</td>\n",
              "      <td>0</td>\n",
              "      <td>0</td>\n",
              "      <td>0</td>\n",
              "      <td>0</td>\n",
              "      <td>0</td>\n",
              "      <td>0</td>\n",
              "      <td>0</td>\n",
              "      <td>0</td>\n",
              "      <td>1</td>\n",
              "      <td>0</td>\n",
              "    </tr>\n",
              "    <tr>\n",
              "      <th>1</th>\n",
              "      <td>1</td>\n",
              "      <td>0</td>\n",
              "      <td>0</td>\n",
              "      <td>0</td>\n",
              "      <td>0</td>\n",
              "      <td>0</td>\n",
              "      <td>0</td>\n",
              "      <td>0</td>\n",
              "      <td>0</td>\n",
              "      <td>0</td>\n",
              "      <td>0</td>\n",
              "      <td>0</td>\n",
              "      <td>0</td>\n",
              "      <td>0</td>\n",
              "      <td>0</td>\n",
              "      <td>0</td>\n",
              "      <td>0</td>\n",
              "      <td>0</td>\n",
              "      <td>0</td>\n",
              "      <td>0</td>\n",
              "      <td>0</td>\n",
              "      <td>0</td>\n",
              "      <td>0</td>\n",
              "      <td>0</td>\n",
              "      <td>0</td>\n",
              "      <td>0</td>\n",
              "      <td>0</td>\n",
              "      <td>0</td>\n",
              "      <td>0</td>\n",
              "      <td>0</td>\n",
              "      <td>0</td>\n",
              "      <td>0</td>\n",
              "      <td>0</td>\n",
              "      <td>0</td>\n",
              "      <td>0</td>\n",
              "      <td>0</td>\n",
              "      <td>0</td>\n",
              "      <td>0</td>\n",
              "      <td>1</td>\n",
              "      <td>0</td>\n",
              "    </tr>\n",
              "  </tbody>\n",
              "</table>\n",
              "</div>"
            ],
            "text/plain": [
              "   Id  ARSON  ASSAULT  ...  VEHICLE THEFT  WARRANTS  WEAPON LAWS\n",
              "0   0      0        0  ...              0         1            0\n",
              "1   1      0        0  ...              0         1            0\n",
              "\n",
              "[2 rows x 40 columns]"
            ]
          },
          "metadata": {
            "tags": []
          },
          "execution_count": 56
        }
      ]
    },
    {
      "cell_type": "code",
      "metadata": {
        "id": "P1xQttL9wQq-"
      },
      "source": [
        "# col_names=sample.columns\n",
        "# col_names.drop(\"Id\")\n",
        "col_names=list(sample.columns)\n",
        "col_names.remove('Id')"
      ],
      "execution_count": 57,
      "outputs": []
    },
    {
      "cell_type": "code",
      "metadata": {
        "id": "PIbePmCEi8C5"
      },
      "source": [
        "submission = pd.DataFrame()\n",
        "submission['Id']=test_data['Id']\n",
        "for i, entry in enumerate(col_names):\n",
        "    submission[entry] = predicted[:,i]"
      ],
      "execution_count": 58,
      "outputs": []
    },
    {
      "cell_type": "code",
      "metadata": {
        "colab": {
          "base_uri": "https://localhost:8080/",
          "height": 182
        },
        "id": "hkFAgX6r2Mey",
        "outputId": "7593eff1-4208-41a6-f8af-3deeded19b7a"
      },
      "source": [
        "submission.head(2)"
      ],
      "execution_count": 59,
      "outputs": [
        {
          "output_type": "execute_result",
          "data": {
            "text/html": [
              "<div>\n",
              "<style scoped>\n",
              "    .dataframe tbody tr th:only-of-type {\n",
              "        vertical-align: middle;\n",
              "    }\n",
              "\n",
              "    .dataframe tbody tr th {\n",
              "        vertical-align: top;\n",
              "    }\n",
              "\n",
              "    .dataframe thead th {\n",
              "        text-align: right;\n",
              "    }\n",
              "</style>\n",
              "<table border=\"1\" class=\"dataframe\">\n",
              "  <thead>\n",
              "    <tr style=\"text-align: right;\">\n",
              "      <th></th>\n",
              "      <th>Id</th>\n",
              "      <th>ARSON</th>\n",
              "      <th>ASSAULT</th>\n",
              "      <th>BAD CHECKS</th>\n",
              "      <th>BRIBERY</th>\n",
              "      <th>BURGLARY</th>\n",
              "      <th>DISORDERLY CONDUCT</th>\n",
              "      <th>DRIVING UNDER THE INFLUENCE</th>\n",
              "      <th>DRUG/NARCOTIC</th>\n",
              "      <th>DRUNKENNESS</th>\n",
              "      <th>EMBEZZLEMENT</th>\n",
              "      <th>EXTORTION</th>\n",
              "      <th>FAMILY OFFENSES</th>\n",
              "      <th>FORGERY/COUNTERFEITING</th>\n",
              "      <th>FRAUD</th>\n",
              "      <th>GAMBLING</th>\n",
              "      <th>KIDNAPPING</th>\n",
              "      <th>LARCENY/THEFT</th>\n",
              "      <th>LIQUOR LAWS</th>\n",
              "      <th>LOITERING</th>\n",
              "      <th>MISSING PERSON</th>\n",
              "      <th>NON-CRIMINAL</th>\n",
              "      <th>OTHER OFFENSES</th>\n",
              "      <th>PORNOGRAPHY/OBSCENE MAT</th>\n",
              "      <th>PROSTITUTION</th>\n",
              "      <th>RECOVERED VEHICLE</th>\n",
              "      <th>ROBBERY</th>\n",
              "      <th>RUNAWAY</th>\n",
              "      <th>SECONDARY CODES</th>\n",
              "      <th>SEX OFFENSES FORCIBLE</th>\n",
              "      <th>SEX OFFENSES NON FORCIBLE</th>\n",
              "      <th>STOLEN PROPERTY</th>\n",
              "      <th>SUICIDE</th>\n",
              "      <th>SUSPICIOUS OCC</th>\n",
              "      <th>TREA</th>\n",
              "      <th>TRESPASS</th>\n",
              "      <th>VANDALISM</th>\n",
              "      <th>VEHICLE THEFT</th>\n",
              "      <th>WARRANTS</th>\n",
              "      <th>WEAPON LAWS</th>\n",
              "    </tr>\n",
              "  </thead>\n",
              "  <tbody>\n",
              "    <tr>\n",
              "      <th>0</th>\n",
              "      <td>0</td>\n",
              "      <td>0</td>\n",
              "      <td>0</td>\n",
              "      <td>0</td>\n",
              "      <td>0</td>\n",
              "      <td>0</td>\n",
              "      <td>0</td>\n",
              "      <td>0</td>\n",
              "      <td>0</td>\n",
              "      <td>0</td>\n",
              "      <td>0</td>\n",
              "      <td>0</td>\n",
              "      <td>0</td>\n",
              "      <td>0</td>\n",
              "      <td>0</td>\n",
              "      <td>0</td>\n",
              "      <td>0</td>\n",
              "      <td>0</td>\n",
              "      <td>0</td>\n",
              "      <td>0</td>\n",
              "      <td>0</td>\n",
              "      <td>0</td>\n",
              "      <td>1</td>\n",
              "      <td>0</td>\n",
              "      <td>0</td>\n",
              "      <td>0</td>\n",
              "      <td>0</td>\n",
              "      <td>0</td>\n",
              "      <td>0</td>\n",
              "      <td>0</td>\n",
              "      <td>0</td>\n",
              "      <td>0</td>\n",
              "      <td>0</td>\n",
              "      <td>0</td>\n",
              "      <td>0</td>\n",
              "      <td>0</td>\n",
              "      <td>0</td>\n",
              "      <td>0</td>\n",
              "      <td>0</td>\n",
              "      <td>0</td>\n",
              "    </tr>\n",
              "    <tr>\n",
              "      <th>1</th>\n",
              "      <td>1</td>\n",
              "      <td>0</td>\n",
              "      <td>0</td>\n",
              "      <td>0</td>\n",
              "      <td>0</td>\n",
              "      <td>0</td>\n",
              "      <td>0</td>\n",
              "      <td>0</td>\n",
              "      <td>0</td>\n",
              "      <td>0</td>\n",
              "      <td>0</td>\n",
              "      <td>0</td>\n",
              "      <td>0</td>\n",
              "      <td>0</td>\n",
              "      <td>0</td>\n",
              "      <td>0</td>\n",
              "      <td>0</td>\n",
              "      <td>0</td>\n",
              "      <td>0</td>\n",
              "      <td>0</td>\n",
              "      <td>0</td>\n",
              "      <td>0</td>\n",
              "      <td>1</td>\n",
              "      <td>0</td>\n",
              "      <td>0</td>\n",
              "      <td>0</td>\n",
              "      <td>0</td>\n",
              "      <td>0</td>\n",
              "      <td>0</td>\n",
              "      <td>0</td>\n",
              "      <td>0</td>\n",
              "      <td>0</td>\n",
              "      <td>0</td>\n",
              "      <td>0</td>\n",
              "      <td>0</td>\n",
              "      <td>0</td>\n",
              "      <td>0</td>\n",
              "      <td>0</td>\n",
              "      <td>0</td>\n",
              "      <td>0</td>\n",
              "    </tr>\n",
              "  </tbody>\n",
              "</table>\n",
              "</div>"
            ],
            "text/plain": [
              "   Id  ARSON  ASSAULT  ...  VEHICLE THEFT  WARRANTS  WEAPON LAWS\n",
              "0   0      0        0  ...              0         0            0\n",
              "1   1      0        0  ...              0         0            0\n",
              "\n",
              "[2 rows x 40 columns]"
            ]
          },
          "metadata": {
            "tags": []
          },
          "execution_count": 59
        }
      ]
    },
    {
      "cell_type": "code",
      "metadata": {
        "id": "MDcNxn0Jk6Du"
      },
      "source": [
        "submission.to_csv(\"/content/drive/MyDrive/碩一下/Machine Learning/Homework_3/sf-crime/answer.csv\", index=False)"
      ],
      "execution_count": 60,
      "outputs": []
    },
    {
      "cell_type": "markdown",
      "metadata": {
        "id": "oWrAiaoH3D7-"
      },
      "source": [
        "![image.png](data:image/png;base64,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)"
      ]
    },
    {
      "cell_type": "code",
      "metadata": {
        "id": "qkHqlSEN4p96"
      },
      "source": [
        ""
      ],
      "execution_count": null,
      "outputs": []
    }
  ]
}